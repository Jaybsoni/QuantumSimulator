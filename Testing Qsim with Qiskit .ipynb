{
 "cells": [
  {
   "cell_type": "markdown",
   "metadata": {},
   "source": [
    "### Introduction: \n",
    "In this notebook we will compare the results of running and simulating identical circuits using Qiskit (IBMs platform) and Qsim our developed simulator. Feel free to change the code in the circuit section to vary the circuits you compare, just make sure you construct the same circuit on both platforms"
   ]
  },
  {
   "cell_type": "code",
   "execution_count": 1,
   "metadata": {},
   "outputs": [],
   "source": [
    "from qsim import qsim\n",
    "from qiskit import *"
   ]
  },
  {
   "cell_type": "code",
   "execution_count": 10,
   "metadata": {
    "scrolled": false
   },
   "outputs": [
    {
     "name": "stdout",
     "output_type": "stream",
     "text": [
      "This is the qsim circuit:\n",
      "q0: |0>----M\n",
      "q1: |0>----M\n",
      "\n",
      "This is the qiskit circuit:\n"
     ]
    },
    {
     "data": {
      "text/html": [
       "<pre style=\"word-wrap: normal;white-space: pre;background: #fff0;line-height: 1.1;font-family: &quot;Courier New&quot;,Courier,monospace\">      \n",
       "q2_0: \n",
       "      \n",
       "q2_1: \n",
       "      \n",
       "c2_0: \n",
       "      \n",
       "c2_1: \n",
       "      </pre>"
      ],
      "text/plain": [
       "      \n",
       "q2_0: \n",
       "      \n",
       "q2_1: \n",
       "      \n",
       "c2_0: \n",
       "      \n",
       "c2_1: \n",
       "      "
      ]
     },
     "execution_count": 10,
     "metadata": {},
     "output_type": "execute_result"
    }
   ],
   "source": [
    "# initializing a quantum circuit using qsim: \n",
    "qsim_circ = qsim.Circuit(2)\n",
    "print('This is the qsim circuit:')  \n",
    "print(qsim_circ)\n",
    "\n",
    "# ------------------------------------------------\n",
    "\n",
    "# initializing a quantum circuit using qiskit:\n",
    "qr = QuantumRegister(2)\n",
    "cr = ClassicalRegister(2)\n",
    "\n",
    "qiskit_circ = QuantumCircuit(qr, cr)\n",
    "print('This is the qiskit circuit:')\n",
    "qiskit_circ.draw()\n"
   ]
  },
  {
   "cell_type": "markdown",
   "metadata": {},
   "source": [
    "### Circuit Generation: \n",
    "In this section we generate a circuit to compare the two simulators. Specifically, we generate a circuit to entangle the 0th qbit and the 1st qbit. \n"
   ]
  },
  {
   "cell_type": "code",
   "execution_count": 11,
   "metadata": {
    "scrolled": true
   },
   "outputs": [
    {
     "name": "stdout",
     "output_type": "stream",
     "text": [
      "q0: |0>--H--CQ---M\n",
      "q1: |0>-----TX---M\n",
      "\n"
     ]
    },
    {
     "data": {
      "text/html": [
       "<pre style=\"word-wrap: normal;white-space: pre;background: #fff0;line-height: 1.1;font-family: &quot;Courier New&quot;,Courier,monospace\">      ┌───┐     \n",
       "q2_0: ┤ H ├──■──\n",
       "      └───┘┌─┴─┐\n",
       "q2_1: ─────┤ X ├\n",
       "           └───┘\n",
       "c2_0: ══════════\n",
       "                \n",
       "c2_1: ══════════\n",
       "                </pre>"
      ],
      "text/plain": [
       "      ┌───┐     \n",
       "q2_0: ┤ H ├──■──\n",
       "      └───┘┌─┴─┐\n",
       "q2_1: ─────┤ X ├\n",
       "           └───┘\n",
       "c2_0: ══════════\n",
       "                \n",
       "c2_1: ══════════\n",
       "                "
      ]
     },
     "execution_count": 11,
     "metadata": {},
     "output_type": "execute_result"
    }
   ],
   "source": [
    "# Customize Circuit Here! \n",
    "qsim_circ.h(0)           # apply hadamard gate to 0th qbit \n",
    "qsim_circ.cx(0,1)        # apply a cnot gate to 0th qbit and 1st qbit \n",
    "print(qsim_circ)\n",
    "\n",
    "# -----------------------------------------------------------------\n",
    "\n",
    "qiskit_circ.h(qr[0])\n",
    "qiskit_circ.cx(qr[0], qr[1])\n",
    "qiskit_circ.draw()\n"
   ]
  },
  {
   "cell_type": "markdown",
   "metadata": {},
   "source": [
    "### Results: \n",
    "In this section we compare the results of circuit for each simulator. Specifically, we will compare the state vector determined by each simulator. We will also plot a histogram of measurements (which are derived from the state vectors) for a more visual confirmation."
   ]
  },
  {
   "cell_type": "code",
   "execution_count": 12,
   "metadata": {},
   "outputs": [
    {
     "name": "stdout",
     "output_type": "stream",
     "text": [
      "state vector from qsim: [0.70710678 0.         0.         0.70710678]\n",
      "state vector from qiskit: [0.707+0.j 0.   +0.j 0.   +0.j 0.707+0.j]\n"
     ]
    }
   ],
   "source": [
    "# display the state vectors for each circuit \n",
    "qsim_circ.run(status=False)\n",
    "print('state vector from qsim: {}'.format(qsim_circ.circuit_state))\n",
    "\n",
    "# ---------------------------------------------\n",
    "\n",
    "backend = Aer.get_backend('statevector_simulator')\n",
    "job = execute(qiskit_circ, backend)\n",
    "result = job.result()\n",
    "qiskit_circuit_state = result.get_statevector(qiskit_circ, decimals=3)\n",
    "print('state vector from qiskit: {}'.format(qiskit_circuit_state))\n"
   ]
  },
  {
   "cell_type": "code",
   "execution_count": 13,
   "metadata": {
    "scrolled": false
   },
   "outputs": [
    {
     "name": "stdout",
     "output_type": "stream",
     "text": [
      "{'00': 508, '01': 0, '10': 0, '11': 516}\n"
     ]
    },
    {
     "data": {
      "image/png": "[encoded data removed]",
      "text/plain": [
       "<Figure size 432x288 with 1 Axes>"
      ]
     },
     "metadata": {
      "needs_background": "light"
     },
     "output_type": "display_data"
    },
    {
     "name": "stdout",
     "output_type": "stream",
     "text": [
      "{'00': 505, '11': 519}\n"
     ]
    },
    {
     "data": {
      "image/png": "[encoded data removed]",
      "text/plain": [
       "<Figure size 504x360 with 1 Axes>"
      ]
     },
     "execution_count": 13,
     "metadata": {},
     "output_type": "execute_result"
    }
   ],
   "source": [
    "# plot 1024 simulated measurements of circuits:\n",
    "counts = qsim_circ.simulate(shots=1024)\n",
    "print(counts)\n",
    "\n",
    "qsim_circ.plot_counts(counts)\n",
    "\n",
    "# -----------------------------------------------\n",
    "backend_sim = Aer.get_backend('qasm_simulator')\n",
    "qiskit_circ.measure(range(2), range(2))\n",
    "job_sim = execute(qiskit_circ, backend_sim, shots=1024)\n",
    "result_sim = job_sim.result()\n",
    "counts = result_sim.get_counts(qiskit_circ)\n",
    "print(counts)\n",
    "\n",
    "from qiskit.visualization import plot_histogram\n",
    "plot_histogram(counts)"
   ]
  },
  {
   "cell_type": "code",
   "execution_count": null,
   "metadata": {},
   "outputs": [],
   "source": []
  }
 ],
 "metadata": {
  "kernelspec": {
   "display_name": "Python 3",
   "language": "python",
   "name": "python3"
  },
  "language_info": {
   "codemirror_mode": {
    "name": "ipython",
    "version": 3
   },
   "file_extension": ".py",
   "mimetype": "text/x-python",
   "name": "python",
   "nbconvert_exporter": "python",
   "pygments_lexer": "ipython3",
   "version": "3.7.4"
  }
 },
 "nbformat": 4,
 "nbformat_minor": 2
}
